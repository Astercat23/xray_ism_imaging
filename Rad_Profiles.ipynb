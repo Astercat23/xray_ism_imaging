#Practice writing radial profiles through python
